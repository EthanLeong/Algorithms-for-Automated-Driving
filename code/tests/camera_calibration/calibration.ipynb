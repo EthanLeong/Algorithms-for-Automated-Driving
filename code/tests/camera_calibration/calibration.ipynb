{
 "cells": [
  {
   "cell_type": "code",
   "execution_count": null,
   "metadata": {},
   "outputs": [],
   "source": [
    "import numpy as np\n",
    "import cv2\n",
    "import matplotlib.pyplot as plt\n",
    "from pathlib import Path"
   ]
  },
  {
   "cell_type": "code",
   "execution_count": null,
   "metadata": {},
   "outputs": [],
   "source": [
    "image_fn = str(Path(\"../../../data/Town04_Clear_Noon_09_09_2020_14_57_22_frame_625_validation_set.png\"))\n",
    "image = cv2.imread(image_fn)\n",
    "image = cv2.cvtColor(image, cv2.COLOR_BGR2RGB)\n",
    "plt.imshow(image)\n",
    "image.shape"
   ]
  },
  {
   "cell_type": "code",
   "execution_count": null,
   "metadata": {},
   "outputs": [],
   "source": [
    "run_student_code = False"
   ]
  },
  {
   "cell_type": "code",
   "execution_count": null,
   "metadata": {},
   "outputs": [],
   "source": [
    "%load_ext autoreload\n",
    "%autoreload 2\n",
    "import sys\n",
    "sys.path.append(str(Path('../../')))\n",
    "if run_student_code:\n",
    "    from exercises.lane_detection.lane_detector import LaneDetector\n",
    "else:\n",
    "    from solutions.lane_detection.lane_detector import LaneDetector"
   ]
  },
  {
   "cell_type": "code",
   "execution_count": null,
   "metadata": {},
   "outputs": [],
   "source": [
    "# TODO: Change the next line(s), to create an instance of *your* LaneDetector\n",
    "model_path = Path(\"../../solutions/lane_detection/best_model_multi_dice_loss.pth\")\n",
    "ld = LaneDetector(model_path=model_path)"
   ]
  },
  {
   "cell_type": "code",
   "execution_count": null,
   "metadata": {},
   "outputs": [],
   "source": [
    "if run_student_code:\n",
    "    from exercises.camera_calibration.camera_calibrator import CameraCalibrator\n",
    "else:\n",
    "    from solutions.camera_calibration.camera_calibrator import CameraCalibrator"
   ]
  },
  {
   "cell_type": "code",
   "execution_count": null,
   "metadata": {},
   "outputs": [],
   "source": [
    "cc = CameraCalibrator(ld, cut_v = 300)"
   ]
  },
  {
   "cell_type": "code",
   "execution_count": null,
   "metadata": {},
   "outputs": [],
   "source": [
    "poly_left, poly_right = cc.get_lane_lines_from_file(image_fn)"
   ]
  },
  {
   "cell_type": "code",
   "execution_count": null,
   "metadata": {},
   "outputs": [],
   "source": [
    "u = np.arange(0,ld.cg.image_width, 1)\n",
    "v_left = poly_left(u)\n",
    "v_right = poly_right(u)"
   ]
  },
  {
   "cell_type": "code",
   "execution_count": null,
   "metadata": {},
   "outputs": [],
   "source": [
    "# plot image\n",
    "plt.imshow(image)\n",
    "# plot detected lane lines\n",
    "plt.plot(u,v_left)\n",
    "plt.plot(u,v_right)\n",
    "plt.xlim(0,ld.cg.image_width)\n",
    "plt.ylim(ld.cg.image_height,0)\n",
    "\n",
    "# plot intersection of lane lines\n",
    "u_i, v_i = cc.get_vanishing_point_from_file(image_fn)\n",
    "plt.scatter([u_i],[v_i], marker=\"o\", s=100, color=\"r\", zorder=10)"
   ]
  },
  {
   "cell_type": "code",
   "execution_count": null,
   "metadata": {},
   "outputs": [],
   "source": []
  },
  {
   "cell_type": "code",
   "execution_count": null,
   "metadata": {},
   "outputs": [],
   "source": []
  }
 ],
 "metadata": {
  "kernelspec": {
   "display_name": "Python 3.7.9 64-bit ('aad': conda)",
   "name": "python379jvsc74a57bd07fe9c202b0db07198d9dcc7af04293ef8fbb00cb7b704bc35bc25acfd92023a0"
  },
  "language_info": {
   "codemirror_mode": {
    "name": "ipython",
    "version": 3
   },
   "file_extension": ".py",
   "mimetype": "text/x-python",
   "name": "python",
   "nbconvert_exporter": "python",
   "pygments_lexer": "ipython3",
   "version": "3.7.9"
  }
 },
 "nbformat": 4,
 "nbformat_minor": 2
}
